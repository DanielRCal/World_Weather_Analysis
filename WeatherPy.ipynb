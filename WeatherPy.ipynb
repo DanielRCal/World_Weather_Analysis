{
 "cells": [
  {
   "cell_type": "code",
   "execution_count": 51,
   "metadata": {},
   "outputs": [],
   "source": [
    "# Import the dependencies.\n",
    "import pandas as pd\n",
    "\n",
    "import matplotlib.pyplot as plt\n",
    " \n",
    "import numpy as np\n",
    "\n",
    "from citipy import citipy\n",
    "\n",
    "import time\n",
    "\n",
    "from datetime import datetime\n",
    "\n",
    "# Import the requests library.\n",
    "import requests\n",
    "\n",
    "# Import the API key.\n",
    "from config import weather_api_key"
   ]
  },
  {
   "cell_type": "code",
   "execution_count": 52,
   "metadata": {},
   "outputs": [],
   "source": [
    "# Starting URL for Weather Map API Call.\n",
    "\n",
    "url = \"http://api.openweathermap.org/data/2.5/weather?units=Imperial&APPID=\" + weather_api_key"
   ]
  },
  {
   "cell_type": "code",
   "execution_count": 53,
   "metadata": {},
   "outputs": [
    {
     "data": {
      "text/plain": [
       "<zip at 0x7fbaaab89480>"
      ]
     },
     "execution_count": 53,
     "metadata": {},
     "output_type": "execute_result"
    }
   ],
   "source": [
    "# Create a set of random latitude and longitude combinations.\n",
    "lats = np.random.uniform(low=-90.000, high=90.000, size=1500)\n",
    "lngs = np.random.uniform(low=-180.000, high=180.000, size=1500)\n",
    "lat_lngs = zip(lats, lngs)\n",
    "lat_lngs"
   ]
  },
  {
   "cell_type": "code",
   "execution_count": 54,
   "metadata": {},
   "outputs": [],
   "source": [
    "# Add the latitudes and longitudes to a list\n",
    "\n",
    "coordinates = list(lat_lngs)"
   ]
  },
  {
   "cell_type": "code",
   "execution_count": 55,
   "metadata": {},
   "outputs": [
    {
     "data": {
      "text/plain": [
       "615"
      ]
     },
     "execution_count": 55,
     "metadata": {},
     "output_type": "execute_result"
    }
   ],
   "source": [
    "# Create a list for holding the cities.\n",
    "\n",
    "cities = []\n",
    "# Identify the nearest city for each latitude and longitude combination.\n",
    "for coordinate in coordinates:\n",
    "    city = citipy.nearest_city(coordinate[0], coordinate[1]).city_name\n",
    "\n",
    "    # If the city is unique, then we will add it to the cities list.\n",
    "\n",
    "    if city not in cities:\n",
    "        cities.append(city)\n",
    "# Print the city count to confirm sufficient count.\n",
    "\n",
    "len(cities)\n"
   ]
  },
  {
   "cell_type": "code",
   "execution_count": 56,
   "metadata": {},
   "outputs": [
    {
     "name": "stdout",
     "output_type": "stream",
     "text": [
      "Beginning Data Retrieval     \n",
      "-----------------------------\n",
      "Processing Record 1 of Set 1 | sao filipe\n",
      "Processing Record 2 of Set 1 | bluff\n",
      "Processing Record 3 of Set 1 | arraial do cabo\n",
      "Processing Record 4 of Set 1 | carnarvon\n",
      "Processing Record 5 of Set 1 | ushuaia\n",
      "Processing Record 6 of Set 1 | sechura\n",
      "Processing Record 7 of Set 1 | tsihombe\n",
      "City not found. Skipping...\n",
      "Processing Record 8 of Set 1 | sao jose da coroa grande\n",
      "Processing Record 9 of Set 1 | north bend\n",
      "Processing Record 10 of Set 1 | capanema\n",
      "Processing Record 11 of Set 1 | nikki\n",
      "Processing Record 12 of Set 1 | mizan teferi\n",
      "Processing Record 13 of Set 1 | taolanaro\n",
      "City not found. Skipping...\n",
      "Processing Record 14 of Set 1 | garoua boulai\n",
      "Processing Record 15 of Set 1 | nikolskoye\n",
      "Processing Record 16 of Set 1 | mar del plata\n",
      "Processing Record 17 of Set 1 | kaitangata\n",
      "Processing Record 18 of Set 1 | kidal\n",
      "Processing Record 19 of Set 1 | hilo\n",
      "Processing Record 20 of Set 1 | mataura\n",
      "Processing Record 21 of Set 1 | hithadhoo\n",
      "Processing Record 22 of Set 1 | svetlaya\n",
      "Processing Record 23 of Set 1 | san carlos\n",
      "Processing Record 24 of Set 1 | atuona\n",
      "Processing Record 25 of Set 1 | norman wells\n",
      "Processing Record 26 of Set 1 | illoqqortoormiut\n",
      "City not found. Skipping...\n",
      "Processing Record 27 of Set 1 | nome\n",
      "Processing Record 28 of Set 1 | skjervoy\n",
      "Processing Record 29 of Set 1 | laguna\n",
      "Processing Record 30 of Set 1 | newcastle\n",
      "Processing Record 31 of Set 1 | rikitea\n",
      "Processing Record 32 of Set 1 | dzhusaly\n",
      "City not found. Skipping...\n",
      "Processing Record 33 of Set 1 | mason city\n",
      "Processing Record 34 of Set 1 | barrow\n",
      "Processing Record 35 of Set 1 | hobart\n",
      "Processing Record 36 of Set 1 | rabo de peixe\n",
      "Processing Record 37 of Set 1 | santa maria\n",
      "Processing Record 38 of Set 1 | saint-philippe\n",
      "Processing Record 39 of Set 1 | faanui\n",
      "Processing Record 40 of Set 1 | vaini\n",
      "Processing Record 41 of Set 1 | qaanaaq\n",
      "Processing Record 42 of Set 1 | airai\n",
      "Processing Record 43 of Set 1 | rawannawi\n",
      "City not found. Skipping...\n",
      "Processing Record 44 of Set 1 | port lincoln\n",
      "Processing Record 45 of Set 1 | cabo san lucas\n",
      "Processing Record 46 of Set 1 | wattegama\n",
      "Processing Record 47 of Set 1 | pisco\n",
      "Processing Record 48 of Set 1 | bengkulu\n",
      "Processing Record 49 of Set 1 | bonavista\n",
      "Processing Record 50 of Set 1 | provideniya\n",
      "Processing Record 1 of Set 2 | half moon bay\n",
      "Processing Record 2 of Set 2 | ushumun\n",
      "Processing Record 3 of Set 2 | tuatapere\n",
      "Processing Record 4 of Set 2 | nkoteng\n",
      "Processing Record 5 of Set 2 | thompson\n",
      "Processing Record 6 of Set 2 | tarpon springs\n",
      "Processing Record 7 of Set 2 | madang\n",
      "Processing Record 8 of Set 2 | new norfolk\n",
      "Processing Record 9 of Set 2 | chokurdakh\n",
      "Processing Record 10 of Set 2 | klaksvik\n",
      "Processing Record 11 of Set 2 | chuy\n",
      "Processing Record 12 of Set 2 | hami\n",
      "Processing Record 13 of Set 2 | saskylakh\n",
      "Processing Record 14 of Set 2 | cape town\n",
      "Processing Record 15 of Set 2 | yellowknife\n",
      "Processing Record 16 of Set 2 | vanino\n",
      "Processing Record 17 of Set 2 | itarema\n",
      "Processing Record 18 of Set 2 | san juan del sur\n",
      "Processing Record 19 of Set 2 | belaya gora\n",
      "Processing Record 20 of Set 2 | kavieng\n",
      "Processing Record 21 of Set 2 | barentsburg\n",
      "City not found. Skipping...\n",
      "Processing Record 22 of Set 2 | abapo\n",
      "Processing Record 23 of Set 2 | watertown\n",
      "Processing Record 24 of Set 2 | aranos\n",
      "Processing Record 25 of Set 2 | pangnirtung\n",
      "Processing Record 26 of Set 2 | riyadh\n",
      "Processing Record 27 of Set 2 | lompoc\n",
      "Processing Record 28 of Set 2 | mullaitivu\n",
      "City not found. Skipping...\n",
      "Processing Record 29 of Set 2 | adrar\n",
      "Processing Record 30 of Set 2 | punta arenas\n",
      "Processing Record 31 of Set 2 | hermanus\n",
      "Processing Record 32 of Set 2 | jamestown\n",
      "Processing Record 33 of Set 2 | dikson\n",
      "Processing Record 34 of Set 2 | pevek\n",
      "Processing Record 35 of Set 2 | cooma\n",
      "Processing Record 36 of Set 2 | rungata\n",
      "City not found. Skipping...\n",
      "Processing Record 37 of Set 2 | ruatoria\n",
      "City not found. Skipping...\n",
      "Processing Record 38 of Set 2 | lebu\n",
      "Processing Record 39 of Set 2 | ciras\n",
      "City not found. Skipping...\n",
      "Processing Record 40 of Set 2 | northam\n",
      "Processing Record 41 of Set 2 | coos bay\n",
      "Processing Record 42 of Set 2 | wahran\n",
      "City not found. Skipping...\n",
      "Processing Record 43 of Set 2 | sitka\n",
      "Processing Record 44 of Set 2 | puerto ayora\n",
      "Processing Record 45 of Set 2 | la ronge\n",
      "Processing Record 46 of Set 2 | saint-raphael\n",
      "Processing Record 47 of Set 2 | kaeo\n",
      "Processing Record 48 of Set 2 | geraldton\n",
      "Processing Record 49 of Set 2 | fortuna\n",
      "Processing Record 50 of Set 2 | chimbote\n"
     ]
    },
    {
     "ename": "KeyboardInterrupt",
     "evalue": "",
     "output_type": "error",
     "traceback": [
      "\u001b[0;31m---------------------------------------------------------------------------\u001b[0m",
      "\u001b[0;31mKeyboardInterrupt\u001b[0m                         Traceback (most recent call last)",
      "\u001b[0;32m<ipython-input-56-1631a4e62f1d>\u001b[0m in \u001b[0;36m<module>\u001b[0;34m\u001b[0m\n\u001b[1;32m     22\u001b[0m         \u001b[0mset_count\u001b[0m \u001b[0;34m+=\u001b[0m \u001b[0;36m1\u001b[0m\u001b[0;34m\u001b[0m\u001b[0;34m\u001b[0m\u001b[0m\n\u001b[1;32m     23\u001b[0m         \u001b[0mrecord_count\u001b[0m \u001b[0;34m=\u001b[0m \u001b[0;36m1\u001b[0m\u001b[0;34m\u001b[0m\u001b[0;34m\u001b[0m\u001b[0m\n\u001b[0;32m---> 24\u001b[0;31m         \u001b[0mtime\u001b[0m\u001b[0;34m.\u001b[0m\u001b[0msleep\u001b[0m\u001b[0;34m(\u001b[0m\u001b[0;36m60\u001b[0m\u001b[0;34m)\u001b[0m\u001b[0;34m\u001b[0m\u001b[0;34m\u001b[0m\u001b[0m\n\u001b[0m\u001b[1;32m     25\u001b[0m \u001b[0;34m\u001b[0m\u001b[0m\n\u001b[1;32m     26\u001b[0m     \u001b[0;31m# Create endpoint URL with each city.\u001b[0m\u001b[0;34m\u001b[0m\u001b[0;34m\u001b[0m\u001b[0m\n",
      "\u001b[0;31mKeyboardInterrupt\u001b[0m: "
     ]
    }
   ],
   "source": [
    "# Create an empty list to hold the weather data.\n",
    "\n",
    "city_data = []\n",
    "\n",
    "# Print the beginning of the logging.\n",
    "\n",
    "print(\"Beginning Data Retrieval     \")\n",
    "print(\"-----------------------------\")\n",
    "\n",
    "# Create counters.\n",
    "\n",
    "record_count = 1\n",
    "set_count = 1\n",
    "\n",
    "# Loop through all the cities in the list.\n",
    "\n",
    "for i, city in enumerate(cities):\n",
    "\n",
    "    # Group cities in sets of 50 for logging purposes.\n",
    "\n",
    "    if (i % 50 == 0 and i >= 50):\n",
    "        set_count += 1\n",
    "        record_count = 1\n",
    "        time.sleep(60)\n",
    "\n",
    "    # Create endpoint URL with each city.\n",
    "\n",
    "    city_url = url + \"&q=\" + city.replace(\" \",\"+\")\n",
    "\n",
    "    # Log the URL, record, and set numbers and the city.\n",
    "\n",
    "    print(f\"Processing Record {record_count} of Set {set_count} | {city}\")\n",
    "   \n",
    "    # Add 1 to the record count.\n",
    "\n",
    "    record_count += 1\n",
    "\n",
    "    # Run an API request for each of the cities.\n",
    "    try:\n",
    "        # Parse the JSON and retrieve data.\n",
    "\n",
    "        city_weather = requests.get(city_url).json()\n",
    "        \n",
    "        # Parse out the needed data.\n",
    "\n",
    "        city_lat = city_weather[\"coord\"][\"lat\"]\n",
    "        city_lng = city_weather[\"coord\"][\"lon\"]\n",
    "        city_max_temp = city_weather[\"main\"][\"temp_max\"]\n",
    "        city_humidity = city_weather[\"main\"][\"humidity\"]\n",
    "        city_clouds = city_weather[\"clouds\"][\"all\"]\n",
    "        city_wind = city_weather[\"wind\"][\"speed\"]\n",
    "        city_country = city_weather[\"sys\"][\"country\"]\n",
    "        \n",
    "        # Convert the date to ISO standard.\n",
    "\n",
    "        city_date = datetime.utcfromtimestamp(city_weather[\"dt\"]).strftime('%Y-%m-%d %H:%M:%S')\n",
    "       \n",
    "        # Append the city information into city_data list.\n",
    "\n",
    "        city_data.append({\"City\": city.title(),\n",
    "                          \"Lat\": city_lat,\n",
    "                          \"Lng\": city_lng,\n",
    "                          \"Max Temp\": city_max_temp,\n",
    "                          \"Humidity\": city_humidity,\n",
    "                          \"Cloudiness\": city_clouds,\n",
    "                          \"Wind Speed\": city_wind,\n",
    "                          \"Country\": city_country,\n",
    "                          \"Date\": city_date})\n",
    "\n",
    "# If an error is experienced, skip the city.\n",
    "\n",
    "    except:\n",
    "        print(\"City not found. Skipping...\")\n",
    "        pass\n",
    "\n",
    "# Indicate that Data Loading is complete.\n",
    "\n",
    "print(\"-----------------------------\")\n",
    "print(\"Data Retrieval Complete      \")\n",
    "print(\"-----------------------------\")"
   ]
  },
  {
   "cell_type": "code",
   "execution_count": null,
   "metadata": {},
   "outputs": [
    {
     "data": {
      "text/plain": [
       "580"
      ]
     },
     "execution_count": 17,
     "metadata": {},
     "output_type": "execute_result"
    }
   ],
   "source": [
    "# Tally the number of cities in the city_data array of dictionaries.\n",
    "\n",
    "len(city_data)"
   ]
  },
  {
   "cell_type": "code",
   "execution_count": 63,
   "metadata": {},
   "outputs": [
    {
     "data": {
      "text/html": [
       "<div>\n",
       "<style scoped>\n",
       "    .dataframe tbody tr th:only-of-type {\n",
       "        vertical-align: middle;\n",
       "    }\n",
       "\n",
       "    .dataframe tbody tr th {\n",
       "        vertical-align: top;\n",
       "    }\n",
       "\n",
       "    .dataframe thead th {\n",
       "        text-align: right;\n",
       "    }\n",
       "</style>\n",
       "<table border=\"1\" class=\"dataframe\">\n",
       "  <thead>\n",
       "    <tr style=\"text-align: right;\">\n",
       "      <th></th>\n",
       "      <th>City</th>\n",
       "      <th>Lat</th>\n",
       "      <th>Lng</th>\n",
       "      <th>Max Temp</th>\n",
       "      <th>Humidity</th>\n",
       "      <th>Cloudiness</th>\n",
       "      <th>Wind Speed</th>\n",
       "      <th>Country</th>\n",
       "      <th>Date</th>\n",
       "    </tr>\n",
       "  </thead>\n",
       "  <tbody>\n",
       "    <tr>\n",
       "      <th>0</th>\n",
       "      <td>Sao Filipe</td>\n",
       "      <td>14.8961</td>\n",
       "      <td>-24.4956</td>\n",
       "      <td>70.03</td>\n",
       "      <td>77</td>\n",
       "      <td>1</td>\n",
       "      <td>8.05</td>\n",
       "      <td>CV</td>\n",
       "      <td>2022-04-15 07:49:03</td>\n",
       "    </tr>\n",
       "    <tr>\n",
       "      <th>1</th>\n",
       "      <td>Bluff</td>\n",
       "      <td>-46.6000</td>\n",
       "      <td>168.3333</td>\n",
       "      <td>58.15</td>\n",
       "      <td>77</td>\n",
       "      <td>96</td>\n",
       "      <td>10.40</td>\n",
       "      <td>NZ</td>\n",
       "      <td>2022-04-15 07:49:03</td>\n",
       "    </tr>\n",
       "    <tr>\n",
       "      <th>2</th>\n",
       "      <td>Arraial Do Cabo</td>\n",
       "      <td>-22.9661</td>\n",
       "      <td>-42.0278</td>\n",
       "      <td>73.33</td>\n",
       "      <td>78</td>\n",
       "      <td>100</td>\n",
       "      <td>22.48</td>\n",
       "      <td>BR</td>\n",
       "      <td>2022-04-15 07:49:04</td>\n",
       "    </tr>\n",
       "    <tr>\n",
       "      <th>3</th>\n",
       "      <td>Carnarvon</td>\n",
       "      <td>-24.8667</td>\n",
       "      <td>113.6333</td>\n",
       "      <td>86.07</td>\n",
       "      <td>54</td>\n",
       "      <td>71</td>\n",
       "      <td>11.50</td>\n",
       "      <td>AU</td>\n",
       "      <td>2022-04-15 07:49:04</td>\n",
       "    </tr>\n",
       "    <tr>\n",
       "      <th>4</th>\n",
       "      <td>Ushuaia</td>\n",
       "      <td>-54.8000</td>\n",
       "      <td>-68.3000</td>\n",
       "      <td>40.66</td>\n",
       "      <td>81</td>\n",
       "      <td>40</td>\n",
       "      <td>3.44</td>\n",
       "      <td>AR</td>\n",
       "      <td>2022-04-15 07:46:29</td>\n",
       "    </tr>\n",
       "    <tr>\n",
       "      <th>5</th>\n",
       "      <td>Sechura</td>\n",
       "      <td>-5.5569</td>\n",
       "      <td>-80.8222</td>\n",
       "      <td>68.45</td>\n",
       "      <td>80</td>\n",
       "      <td>99</td>\n",
       "      <td>12.57</td>\n",
       "      <td>PE</td>\n",
       "      <td>2022-04-15 07:49:04</td>\n",
       "    </tr>\n",
       "    <tr>\n",
       "      <th>6</th>\n",
       "      <td>Sao Jose Da Coroa Grande</td>\n",
       "      <td>-8.8978</td>\n",
       "      <td>-35.1478</td>\n",
       "      <td>77.22</td>\n",
       "      <td>83</td>\n",
       "      <td>54</td>\n",
       "      <td>6.31</td>\n",
       "      <td>BR</td>\n",
       "      <td>2022-04-15 07:49:05</td>\n",
       "    </tr>\n",
       "    <tr>\n",
       "      <th>7</th>\n",
       "      <td>North Bend</td>\n",
       "      <td>43.4065</td>\n",
       "      <td>-124.2243</td>\n",
       "      <td>39.85</td>\n",
       "      <td>96</td>\n",
       "      <td>20</td>\n",
       "      <td>6.91</td>\n",
       "      <td>US</td>\n",
       "      <td>2022-04-15 07:45:19</td>\n",
       "    </tr>\n",
       "    <tr>\n",
       "      <th>8</th>\n",
       "      <td>Capanema</td>\n",
       "      <td>-1.1958</td>\n",
       "      <td>-47.1808</td>\n",
       "      <td>73.47</td>\n",
       "      <td>98</td>\n",
       "      <td>100</td>\n",
       "      <td>2.19</td>\n",
       "      <td>BR</td>\n",
       "      <td>2022-04-15 07:49:05</td>\n",
       "    </tr>\n",
       "    <tr>\n",
       "      <th>9</th>\n",
       "      <td>Nikki</td>\n",
       "      <td>9.9401</td>\n",
       "      <td>3.2108</td>\n",
       "      <td>81.07</td>\n",
       "      <td>61</td>\n",
       "      <td>100</td>\n",
       "      <td>6.85</td>\n",
       "      <td>BJ</td>\n",
       "      <td>2022-04-15 07:49:05</td>\n",
       "    </tr>\n",
       "  </tbody>\n",
       "</table>\n",
       "</div>"
      ],
      "text/plain": [
       "                       City      Lat       Lng  Max Temp  Humidity  \\\n",
       "0                Sao Filipe  14.8961  -24.4956     70.03        77   \n",
       "1                     Bluff -46.6000  168.3333     58.15        77   \n",
       "2           Arraial Do Cabo -22.9661  -42.0278     73.33        78   \n",
       "3                 Carnarvon -24.8667  113.6333     86.07        54   \n",
       "4                   Ushuaia -54.8000  -68.3000     40.66        81   \n",
       "5                   Sechura  -5.5569  -80.8222     68.45        80   \n",
       "6  Sao Jose Da Coroa Grande  -8.8978  -35.1478     77.22        83   \n",
       "7                North Bend  43.4065 -124.2243     39.85        96   \n",
       "8                  Capanema  -1.1958  -47.1808     73.47        98   \n",
       "9                     Nikki   9.9401    3.2108     81.07        61   \n",
       "\n",
       "   Cloudiness  Wind Speed Country                 Date  \n",
       "0           1        8.05      CV  2022-04-15 07:49:03  \n",
       "1          96       10.40      NZ  2022-04-15 07:49:03  \n",
       "2         100       22.48      BR  2022-04-15 07:49:04  \n",
       "3          71       11.50      AU  2022-04-15 07:49:04  \n",
       "4          40        3.44      AR  2022-04-15 07:46:29  \n",
       "5          99       12.57      PE  2022-04-15 07:49:04  \n",
       "6          54        6.31      BR  2022-04-15 07:49:05  \n",
       "7          20        6.91      US  2022-04-15 07:45:19  \n",
       "8         100        2.19      BR  2022-04-15 07:49:05  \n",
       "9         100        6.85      BJ  2022-04-15 07:49:05  "
      ]
     },
     "execution_count": 63,
     "metadata": {},
     "output_type": "execute_result"
    }
   ],
   "source": [
    "# Convert the array of dictionaries to a Pandas DataFrame.\n",
    "city_data_df = pd.DataFrame(city_data)\n",
    "city_data_df.head(10)"
   ]
  },
  {
   "cell_type": "code",
   "execution_count": 84,
   "metadata": {},
   "outputs": [
    {
     "data": {
      "text/html": [
       "<div>\n",
       "<style scoped>\n",
       "    .dataframe tbody tr th:only-of-type {\n",
       "        vertical-align: middle;\n",
       "    }\n",
       "\n",
       "    .dataframe tbody tr th {\n",
       "        vertical-align: top;\n",
       "    }\n",
       "\n",
       "    .dataframe thead th {\n",
       "        text-align: right;\n",
       "    }\n",
       "</style>\n",
       "<table border=\"1\" class=\"dataframe\">\n",
       "  <thead>\n",
       "    <tr style=\"text-align: right;\">\n",
       "      <th></th>\n",
       "      <th>City</th>\n",
       "      <th>Country</th>\n",
       "      <th>Date</th>\n",
       "      <th>Lat</th>\n",
       "      <th>Lng</th>\n",
       "      <th>Max Temp</th>\n",
       "      <th>Humidity</th>\n",
       "      <th>Cloudiness</th>\n",
       "      <th>Wind Speed</th>\n",
       "    </tr>\n",
       "  </thead>\n",
       "  <tbody>\n",
       "    <tr>\n",
       "      <th>0</th>\n",
       "      <td>Sao Filipe</td>\n",
       "      <td>CV</td>\n",
       "      <td>2022-04-15 07:49:03</td>\n",
       "      <td>14.8961</td>\n",
       "      <td>-24.4956</td>\n",
       "      <td>70.03</td>\n",
       "      <td>77</td>\n",
       "      <td>1</td>\n",
       "      <td>8.05</td>\n",
       "    </tr>\n",
       "    <tr>\n",
       "      <th>1</th>\n",
       "      <td>Bluff</td>\n",
       "      <td>NZ</td>\n",
       "      <td>2022-04-15 07:49:03</td>\n",
       "      <td>-46.6000</td>\n",
       "      <td>168.3333</td>\n",
       "      <td>58.15</td>\n",
       "      <td>77</td>\n",
       "      <td>96</td>\n",
       "      <td>10.40</td>\n",
       "    </tr>\n",
       "    <tr>\n",
       "      <th>2</th>\n",
       "      <td>Arraial Do Cabo</td>\n",
       "      <td>BR</td>\n",
       "      <td>2022-04-15 07:49:04</td>\n",
       "      <td>-22.9661</td>\n",
       "      <td>-42.0278</td>\n",
       "      <td>73.33</td>\n",
       "      <td>78</td>\n",
       "      <td>100</td>\n",
       "      <td>22.48</td>\n",
       "    </tr>\n",
       "    <tr>\n",
       "      <th>3</th>\n",
       "      <td>Carnarvon</td>\n",
       "      <td>AU</td>\n",
       "      <td>2022-04-15 07:49:04</td>\n",
       "      <td>-24.8667</td>\n",
       "      <td>113.6333</td>\n",
       "      <td>86.07</td>\n",
       "      <td>54</td>\n",
       "      <td>71</td>\n",
       "      <td>11.50</td>\n",
       "    </tr>\n",
       "    <tr>\n",
       "      <th>4</th>\n",
       "      <td>Ushuaia</td>\n",
       "      <td>AR</td>\n",
       "      <td>2022-04-15 07:46:29</td>\n",
       "      <td>-54.8000</td>\n",
       "      <td>-68.3000</td>\n",
       "      <td>40.66</td>\n",
       "      <td>81</td>\n",
       "      <td>40</td>\n",
       "      <td>3.44</td>\n",
       "    </tr>\n",
       "  </tbody>\n",
       "</table>\n",
       "</div>"
      ],
      "text/plain": [
       "              City Country                 Date      Lat       Lng  Max Temp  \\\n",
       "0       Sao Filipe      CV  2022-04-15 07:49:03  14.8961  -24.4956     70.03   \n",
       "1            Bluff      NZ  2022-04-15 07:49:03 -46.6000  168.3333     58.15   \n",
       "2  Arraial Do Cabo      BR  2022-04-15 07:49:04 -22.9661  -42.0278     73.33   \n",
       "3        Carnarvon      AU  2022-04-15 07:49:04 -24.8667  113.6333     86.07   \n",
       "4          Ushuaia      AR  2022-04-15 07:46:29 -54.8000  -68.3000     40.66   \n",
       "\n",
       "   Humidity  Cloudiness  Wind Speed  \n",
       "0        77           1        8.05  \n",
       "1        77          96       10.40  \n",
       "2        78         100       22.48  \n",
       "3        54          71       11.50  \n",
       "4        81          40        3.44  "
      ]
     },
     "execution_count": 84,
     "metadata": {},
     "output_type": "execute_result"
    }
   ],
   "source": [
    "# Reorder the columns in the following order: City, Country, Date, Lat, Lng, Max Temp, Humidity, Cloudiness, and Wind Speed.\n",
    "\n",
    "city_data_df = city_data_df[[\"City\", \"Country\", \"Date\", \"Lat\", \"Lng\", \"Max Temp\", \"Humidity\", \"Cloudiness\", \"Wind Speed\"]]\n",
    "\n",
    "city_data_df.head()"
   ]
  },
  {
   "cell_type": "markdown",
   "metadata": {},
   "source": []
  },
  {
   "cell_type": "code",
   "execution_count": 85,
   "metadata": {},
   "outputs": [],
   "source": [
    "# Create the output file (CSV).\n",
    "\n",
    "output_data_file = \"weather_data/cities.csv\"\n",
    "\n",
    "# Export the City_Data into a CSV.\n",
    "\n",
    "city_data_df.to_csv(output_data_file, index_label=\"City_ID\")"
   ]
  },
  {
   "cell_type": "code",
   "execution_count": 86,
   "metadata": {},
   "outputs": [],
   "source": [
    "# Extract relevant fields from the DataFrame for plotting.\n",
    "\n",
    "lats = city_data_df[\"Lat\"]\n",
    "max_temps = city_data_df[\"Max Temp\"]\n",
    "humidity = city_data_df[\"Humidity\"]\n",
    "cloudiness = city_data_df[\"Cloudiness\"]\n",
    "wind_speed = city_data_df[\"Wind Speed\"]"
   ]
  },
  {
   "cell_type": "code",
   "execution_count": 87,
   "metadata": {},
   "outputs": [
    {
     "data": {
      "text/plain": [
       "<function matplotlib.pyplot.show(close=None, block=None)>"
      ]
     },
     "execution_count": 87,
     "metadata": {},
     "output_type": "execute_result"
    },
    {
     "data": {
      "image/png": "[encoded data removed]",
      "text/plain": [
       "<Figure size 432x288 with 1 Axes>"
      ]
     },
     "metadata": {
      "needs_background": "light"
     },
     "output_type": "display_data"
    }
   ],
   "source": [
    "# Import time module\n",
    "\n",
    "import time\n",
    "\n",
    "# Build the scatter plot for latitude vs. max temp.\n",
    "\n",
    "plt.scatter(lats,\n",
    "            max_temps,\n",
    "            edgecolor ='black', linewidths=1, marker ='o',\n",
    "            alpha=0.8, label='Cities')\n",
    "\n",
    "#Incorporate the other graph properties.\n",
    "\n",
    "plt.title(f'City Latitude vs. Max Temperature '+ time.strftime('%x'))\n",
    "plt.ylabel('Max Temperature (F)')\n",
    "plt.xlabel('Latitude')\n",
    "plt.grid(True)\n",
    "\n",
    "# Save the figure.\n",
    "\n",
    "plt.savefig('weather_data/Fig1.png')\n",
    "\n",
    "# Show plot\n",
    "\n",
    "plt.show"
   ]
  },
  {
   "cell_type": "code",
   "execution_count": 88,
   "metadata": {},
   "outputs": [
    {
     "data": {
      "image/png": "[encoded data removed]",
      "text/plain": [
       "<Figure size 432x288 with 1 Axes>"
      ]
     },
     "metadata": {
      "needs_background": "light"
     },
     "output_type": "display_data"
    }
   ],
   "source": [
    "# Build the scatter plots for latitude vs. humidity.\n",
    "\n",
    "plt.scatter(lats,\n",
    "            humidity,\n",
    "            edgecolor=\"black\", linewidths=1, marker=\"o\",\n",
    "            alpha=0.8, label=\"Cities\")\n",
    "\n",
    "# Incorporate the other graph properties.\n",
    "\n",
    "plt.title(f\"City Latitude vs. Humidity \"+ time.strftime(\"%x\"))\n",
    "plt.ylabel(\"Humidity (%)\")\n",
    "plt.xlabel(\"Latitude\")\n",
    "plt.grid(True)\n",
    "\n",
    "# Save the figure.\n",
    "\n",
    "plt.savefig(\"weather_data/Fig2.png\")\n",
    "\n",
    "# Show plot.\n",
    "\n",
    "plt.show()"
   ]
  },
  {
   "cell_type": "code",
   "execution_count": 89,
   "metadata": {},
   "outputs": [
    {
     "data": {
      "image/png": "[encoded data removed]",
      "text/plain": [
       "<Figure size 432x288 with 1 Axes>"
      ]
     },
     "metadata": {
      "needs_background": "light"
     },
     "output_type": "display_data"
    }
   ],
   "source": [
    "# Build the scatter plots for latitude vs. cloudiness.\n",
    "\n",
    "plt.scatter(lats,\n",
    "            cloudiness,\n",
    "            edgecolor=\"black\", linewidths=1, marker=\"o\",\n",
    "            alpha=0.8, label=\"Cities\")\n",
    "\n",
    "# Incorporate the other graph properties.\n",
    "\n",
    "plt.title(f\"City Latitude vs. Cloudiness (%) \"+ time.strftime(\"%x\"))\n",
    "plt.ylabel(\"Cloudiness (%)\")\n",
    "plt.xlabel(\"Latitude\")\n",
    "plt.grid(True)\n",
    "\n",
    "# Save the figure.\n",
    "\n",
    "plt.savefig(\"weather_data/Fig3.png\")\n",
    "\n",
    "# Show plot.\n",
    "\n",
    "plt.show()"
   ]
  },
  {
   "cell_type": "code",
   "execution_count": 90,
   "metadata": {},
   "outputs": [
    {
     "data": {
      "image/png": "[encoded data removed]",
      "text/plain": [
       "<Figure size 432x288 with 1 Axes>"
      ]
     },
     "metadata": {
      "needs_background": "light"
     },
     "output_type": "display_data"
    }
   ],
   "source": [
    "# Build the scatter plots for latitude vs. wind speed.\n",
    "\n",
    "plt.scatter(lats,\n",
    "            wind_speed,\n",
    "            edgecolor=\"black\", linewidths=1, marker=\"o\",\n",
    "            alpha=0.8, label=\"Cities\")\n",
    "\n",
    "\n",
    "# Incorporate the other graph properties.\n",
    "\n",
    "plt.title(f\"City Latitude vs. Wind Speed \"+ time.strftime(\"%x\"))\n",
    "plt.ylabel(\"Wind Speed (mph)\")\n",
    "plt.xlabel(\"Latitude\")\n",
    "plt.grid(True)\n",
    "\n",
    "# Save the figure.\n",
    "\n",
    "plt.savefig(\"weather_data/Fig4.png\")\n",
    "\n",
    "# Show plot.\n",
    "\n",
    "plt.show()"
   ]
  },
  {
   "cell_type": "code",
   "execution_count": 91,
   "metadata": {},
   "outputs": [],
   "source": [
    "# Create a function to create perform linear regression on the weather data\n",
    "# and plot a regression line and the equation with the data.\n",
    "def plot_linear_regression(x_values, y_values, title, y_label, text_coordinates):\n",
    "\n",
    "        # Import linregress\n",
    "    from scipy.stats import linregress\n",
    "\n",
    "    # Create a function to create perform linear regression on the weather data\n",
    "    # and plot a regression line and the equation with the data.\n",
    "    def plot_linear_regression(x_values, y_values, title, y_label, text_coordinates):\n",
    "\n",
    "        # Run regression on hemisphere weather data.\n",
    "        (slope, intercept, r_value, p_value, std_err) = linregress(x_values, y_values)\n",
    "\n",
    "        # Calculate the regression line \"y values\" from the slope and intercept.\n",
    "        regress_values = x_values * slope + intercept\n",
    "        # Get the equation of the line.\n",
    "        line_eq = \"y = \" + str(round(slope,2)) + \"x + \" + str(round(intercept,2))\n",
    "        # Create a scatter plot and plot the regression line.\n",
    "        plt.scatter(x_values,y_values)\n",
    "        plt.plot(x_values,regress_values,\"r\")\n",
    "        # Annotate the text for the line equation.\n",
    "        plt.annotate(line_eq, text_coordinates, fontsize=15, color=\"red\")\n",
    "        plt.title(title)\n",
    "        plt.xlabel('Latitude')\n",
    "        plt.ylabel(y_label)\n",
    "        plt.show()"
   ]
  },
  {
   "cell_type": "code",
   "execution_count": 92,
   "metadata": {},
   "outputs": [
    {
     "data": {
      "text/plain": [
       "City                Mar Del Plata\n",
       "Country                        AR\n",
       "Date          2022-04-15 07:46:24\n",
       "Lat                      -38.0023\n",
       "Lng                      -57.5575\n",
       "Max Temp                    51.87\n",
       "Humidity                       84\n",
       "Cloudiness                      0\n",
       "Wind Speed                   6.91\n",
       "Name: 13, dtype: object"
      ]
     },
     "execution_count": 92,
     "metadata": {},
     "output_type": "execute_result"
    }
   ],
   "source": [
    "# Applying the loc method to create a new dffrom a current df. This method accesses a group of rows and columns by an index\n",
    "#   labels, or a Boolean array.\n",
    "index13 = city_data_df.loc[13]\n",
    "index13"
   ]
  },
  {
   "cell_type": "code",
   "execution_count": 93,
   "metadata": {},
   "outputs": [],
   "source": [
    "# Create Northern and Southern Hemisphere DataFrames.\n",
    "northern_hemi_df = city_data_df.loc[(city_data_df[\"Lat\"] >= 0)]\n",
    "southern_hemi_df = city_data_df.loc[(city_data_df[\"Lat\"] < 0)]"
   ]
  },
  {
   "cell_type": "code",
   "execution_count": 101,
   "metadata": {},
   "outputs": [],
   "source": [
    "# Linear regression on the Northern Hemisphere\n",
    "\n",
    "x_values = northern_hemi_df[\"Lat\"]\n",
    "y_values = northern_hemi_df[\"Max Temp\"]\n",
    "\n",
    "# Call the function.\n",
    "\n",
    "plot_linear_regression(x_values, y_values,\n",
    "                       'Linear Regression on the Northern Hemisphere \\\n",
    "                        for Maximum Temperature', 'Max Temp',(10,40))                 "
   ]
  },
  {
   "cell_type": "code",
   "execution_count": 103,
   "metadata": {},
   "outputs": [],
   "source": [
    "# Linear regression on the Southern Hemisphere\n",
    "x_values = southern_hemi_df[\"Lat\"]\n",
    "y_values = southern_hemi_df[\"Max Temp\"]\n",
    "# Call the function.\n",
    "plot_linear_regression(x_values, y_values,\n",
    "                       'Linear Regression on the Southern Hemisphere \\\n",
    "                        for Maximum Temperature', 'Max Temp',(-50,90))"
   ]
  },
  {
   "cell_type": "code",
   "execution_count": 104,
   "metadata": {},
   "outputs": [],
   "source": [
    "# Linear regression on the Northern Hemisphere\n",
    "x_values = northern_hemi_df[\"Lat\"]\n",
    "y_values = northern_hemi_df[\"Humidity\"]\n",
    "# Call the function.\n",
    "plot_linear_regression(x_values, y_values,\n",
    "                       'Linear Regression on the Northern Hemisphere \\\n",
    "                        for % Humidity', '% Humidity',(40,10))"
   ]
  },
  {
   "cell_type": "code",
   "execution_count": 105,
   "metadata": {},
   "outputs": [],
   "source": [
    "# Linear regression on the Southern Hemisphere\n",
    "x_values = southern_hemi_df[\"Lat\"]\n",
    "y_values = southern_hemi_df[\"Humidity\"]\n",
    "# Call the function.\n",
    "plot_linear_regression(x_values, y_values,\n",
    "                       'Linear Regression on the Southern Hemisphere \\\n",
    "                        for % Humidity', '% Humidity',(-50,15))"
   ]
  },
  {
   "cell_type": "code",
   "execution_count": 108,
   "metadata": {},
   "outputs": [],
   "source": [
    "# Linear regression on the Northern Hemisphere\n",
    "x_values = northern_hemi_df[\"Lat\"]\n",
    "y_values = northern_hemi_df[\"Cloudiness\"]\n",
    "# Call the function.\n",
    "plot_linear_regression(x_values, y_values,\n",
    "                       'Linear Regression on the Northern Hemisphere \\\n",
    "                        for % Cloudiness', '% Cloudiness',(40,10))"
   ]
  },
  {
   "cell_type": "code",
   "execution_count": 109,
   "metadata": {},
   "outputs": [],
   "source": [
    "# Linear regression on the Southern Hemisphere\n",
    "x_values = southern_hemi_df[\"Lat\"]\n",
    "y_values = southern_hemi_df[\"Cloudiness\"]\n",
    "# Call the function.\n",
    "plot_linear_regression(x_values, y_values,\n",
    "                       'Linear Regression on the Southern Hemisphere \\\n",
    "                        for % Cloudiness', '% Cloudiness',(-50,60))"
   ]
  },
  {
   "cell_type": "code",
   "execution_count": 110,
   "metadata": {},
   "outputs": [],
   "source": [
    "# Linear regression on the Northern Hemisphere\n",
    "x_values = northern_hemi_df[\"Lat\"]\n",
    "y_values = northern_hemi_df[\"Wind Speed\"]\n",
    "# Call the function.\n",
    "plot_linear_regression(x_values, y_values,\n",
    "                       'Linear Regression on the Northern Hemisphere \\\n",
    "                        for Wind Speed', 'Wind Speed',(40,35))"
   ]
  },
  {
   "cell_type": "code",
   "execution_count": 111,
   "metadata": {},
   "outputs": [],
   "source": [
    "# Linear regression on the Southern Hemisphere\n",
    "x_values = southern_hemi_df[\"Lat\"]\n",
    "y_values = southern_hemi_df[\"Wind Speed\"]\n",
    "# Call the function.\n",
    "plot_linear_regression(x_values, y_values,\n",
    "                       'Linear Regression on the Southern Hemisphere \\\n",
    "                        for Wind Speed', 'Wind Speed',(-50,35))"
   ]
  },
  {
   "cell_type": "code",
   "execution_count": null,
   "metadata": {},
   "outputs": [],
   "source": []
  }
 ],
 "metadata": {
  "interpreter": {
   "hash": "0568aaa5e82f875d310c7f28bfdc10e11853d893f58b059dc43f702a73f2cf79"
  },
  "kernelspec": {
   "display_name": "PythonData",
   "language": "python",
   "name": "pythondata"
  },
  "language_info": {
   "codemirror_mode": {
    "name": "ipython",
    "version": 3
   },
   "file_extension": ".py",
   "mimetype": "text/x-python",
   "name": "python",
   "nbconvert_exporter": "python",
   "pygments_lexer": "ipython3",
   "version": "3.9.7"
  },
  "orig_nbformat": 4
 },
 "nbformat": 4,
 "nbformat_minor": 2
}
